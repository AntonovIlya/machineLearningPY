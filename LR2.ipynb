{
 "cells": [
  {
   "cell_type": "markdown",
   "metadata": {},
   "source": [
    "<html>\n",
    "<head>\n",
    "\t<title></title>\n",
    "</head>\n",
    "<body>\n",
    "<h1 style=\"text-align: center;line-height: 120%;\">ФЕДЕРАЛЬНОЕ ГОСУДАРСТВЕННОЕ БЮДЖЕТНОЕ ОБРАЗОВАТЕЛЬНОЕ УЧРЕЖДЕНИЕ ВЫСШЕГО ОБРАЗОВАНИЯ НАЦИОНАЛЬНЫЙ ИССЛЕДОВАТЕЛЬСКИЙ УНИВЕРСИТЕТ «МОСКОВСКИЙ ЭНЕРГЕТИЧЕСКИЙ ИНСТИТУТ» Кафедра «РЗиАЭ»</h1>\n",
    "<h2 style=\"text-align: center;line-height: 20%;\">Лабораторная работа №2</h2>\n",
    "\n",
    "<h3 style=\"text-align: center;line-height: 80%;\"><em>НАИВНЫЙ БАЙЕСОВСКИЙ КЛАССИФИКАТОР. МЕТОД ОПОРНЫХ ВЕКТОРОВ </em></h3>\n",
    "    \n",
    "<h3 style=\"text-align: center;line-height: 60%;\"><em>по дисциплине: \"Применение искусственного интеллекта в электроэнергетике\"   </em></h3>\n",
    "\n",
    "    \n",
    "<p style=\"text-align: right;line-height: 40%;\"> Выполнил: студент группы Э-13м-19</p>\n",
    "\n",
    "<p style=\"text-align: right;line-height: 40%;\">Антонов И.И.</p>\n",
    "\n",
    "<p style=\"text-align: right;line-height: 40%;\">Принял: Нухулов С.М.</p>\n",
    "<h4 style=\"text-align: center;line-height: 100%;\"><em> Москва, 2020</em></h3>\n",
    "</body>\n",
    "</html>"
   ]
  },
  {
   "cell_type": "markdown",
   "metadata": {},
   "source": [
    "## Импорт библиотек"
   ]
  },
  {
   "cell_type": "code",
   "execution_count": 1,
   "metadata": {},
   "outputs": [],
   "source": [
    "import pandas as pd\n",
    "import numpy as np\n",
    "import string\n",
    "import seaborn as sns\n",
    "from nltk.corpus import stopwords\n",
    "import matplotlib.pyplot as plt\n",
    "from sklearn import feature_extraction \n",
    "from sklearn.model_selection import train_test_split\n",
    "from sklearn.naive_bayes import MultinomialNB \n",
    "from sklearn import metrics \n",
    "from sklearn.svm import SVC "
   ]
  },
  {
   "cell_type": "markdown",
   "metadata": {},
   "source": [
    "## Пункт 1"
   ]
  },
  {
   "cell_type": "code",
   "execution_count": 2,
   "metadata": {},
   "outputs": [
    {
     "name": "stdout",
     "output_type": "stream",
     "text": [
      "<class 'pandas.core.frame.DataFrame'>\n",
      "RangeIndex: 5572 entries, 0 to 5571\n",
      "Data columns (total 5 columns):\n",
      " #   Column      Non-Null Count  Dtype \n",
      "---  ------      --------------  ----- \n",
      " 0   v1          5572 non-null   object\n",
      " 1   v2          5572 non-null   object\n",
      " 2   Unnamed: 2  50 non-null     object\n",
      " 3   Unnamed: 3  12 non-null     object\n",
      " 4   Unnamed: 4  6 non-null      object\n",
      "dtypes: object(5)\n",
      "memory usage: 217.8+ KB\n"
     ]
    }
   ],
   "source": [
    "# Загрузка и предобработка данных\n",
    "data = pd.read_csv('spam.csv', encoding='latin1')\n",
    "data.info()"
   ]
  },
  {
   "cell_type": "code",
   "execution_count": 3,
   "metadata": {},
   "outputs": [
    {
     "data": {
      "text/html": [
       "<div>\n",
       "<style scoped>\n",
       "    .dataframe tbody tr th:only-of-type {\n",
       "        vertical-align: middle;\n",
       "    }\n",
       "\n",
       "    .dataframe tbody tr th {\n",
       "        vertical-align: top;\n",
       "    }\n",
       "\n",
       "    .dataframe thead th {\n",
       "        text-align: right;\n",
       "    }\n",
       "</style>\n",
       "<table border=\"1\" class=\"dataframe\">\n",
       "  <thead>\n",
       "    <tr style=\"text-align: right;\">\n",
       "      <th></th>\n",
       "      <th>v1</th>\n",
       "      <th>v2</th>\n",
       "    </tr>\n",
       "  </thead>\n",
       "  <tbody>\n",
       "    <tr>\n",
       "      <th>0</th>\n",
       "      <td>ham</td>\n",
       "      <td>Go until jurong point, crazy.. Available only ...</td>\n",
       "    </tr>\n",
       "    <tr>\n",
       "      <th>1</th>\n",
       "      <td>ham</td>\n",
       "      <td>Ok lar... Joking wif u oni...</td>\n",
       "    </tr>\n",
       "    <tr>\n",
       "      <th>2</th>\n",
       "      <td>spam</td>\n",
       "      <td>Free entry in 2 a wkly comp to win FA Cup fina...</td>\n",
       "    </tr>\n",
       "    <tr>\n",
       "      <th>3</th>\n",
       "      <td>ham</td>\n",
       "      <td>U dun say so early hor... U c already then say...</td>\n",
       "    </tr>\n",
       "    <tr>\n",
       "      <th>4</th>\n",
       "      <td>ham</td>\n",
       "      <td>Nah I don't think he goes to usf, he lives aro...</td>\n",
       "    </tr>\n",
       "  </tbody>\n",
       "</table>\n",
       "</div>"
      ],
      "text/plain": [
       "     v1                                                 v2\n",
       "0   ham  Go until jurong point, crazy.. Available only ...\n",
       "1   ham                      Ok lar... Joking wif u oni...\n",
       "2  spam  Free entry in 2 a wkly comp to win FA Cup fina...\n",
       "3   ham  U dun say so early hor... U c already then say...\n",
       "4   ham  Nah I don't think he goes to usf, he lives aro..."
      ]
     },
     "execution_count": 3,
     "metadata": {},
     "output_type": "execute_result"
    }
   ],
   "source": [
    "data.drop(['Unnamed: 2', 'Unnamed: 3', 'Unnamed: 4'], axis =1, inplace = True)\n",
    "data.head()\n",
    "\n",
    "P(A/B) = P(B/A) * P(A) / P(B)\n",
    "\n",
    "P(C/d) = P(d/C) * P(C) / P(d)  log(P(w1/c) * *)"
   ]
  },
  {
   "cell_type": "code",
   "execution_count": 4,
   "metadata": {},
   "outputs": [],
   "source": [
    "def removeStopWords(s):\n",
    "    for i in stopwords.words('english'):\n",
    "        if i in s.strip().split():\n",
    "            s = s.replace(i,'')\n",
    "    return s.strip()"
   ]
  },
  {
   "cell_type": "code",
   "execution_count": 5,
   "metadata": {},
   "outputs": [],
   "source": [
    "dictionary = '1234567890'"
   ]
  },
  {
   "cell_type": "code",
   "execution_count": 6,
   "metadata": {},
   "outputs": [],
   "source": [
    "def removeNumericalSequence(s):\n",
    "    new_str = ''\n",
    "    count = 0\n",
    "    for i in s:\n",
    "        if (i in dictionary) and (count == 0):\n",
    "            new_str += '1'\n",
    "            count += 1\n",
    "        elif (i in dictionary) and (count > 0):\n",
    "            count += 1\n",
    "        else:\n",
    "            new_str += i\n",
    "            count = 0\n",
    "    return new_str"
   ]
  },
  {
   "cell_type": "code",
   "execution_count": 8,
   "metadata": {},
   "outputs": [],
   "source": [
    "#уменьшение текста до строчных букв\n",
    "#data['v2'] = data['v2'].str.lower()\n",
    "\n",
    "#удаление всех знаков пунктуации\n",
    "#data['v2'] = data['v2'].apply(lambda s: s.translate(str.maketrans('', '', string.punctuation)))\n",
    "\n",
    "#замена числовых последовательностей еденицей ?\n",
    "#data['v2'] = data['v2'].apply(removeNumericalSequence)"
   ]
  },
  {
   "cell_type": "markdown",
   "metadata": {},
   "source": [
    "## Пункт 2"
   ]
  },
  {
   "cell_type": "code",
   "execution_count": 9,
   "metadata": {},
   "outputs": [
    {
     "data": {
      "image/png": "[encoded data removed]",
      "text/plain": [
       "<Figure size 504x360 with 1 Axes>"
      ]
     },
     "metadata": {},
     "output_type": "display_data"
    }
   ],
   "source": [
    "# Построение круговой диаграммы диаграммы\n",
    "f=plt.figure(figsize=(7,5))\n",
    "plt.pie(data['v1'].value_counts(),labels = data['v1'].unique(), autopct='%1.1f%%');"
   ]
  },
  {
   "cell_type": "markdown",
   "metadata": {},
   "source": [
    "## Пункт 3"
   ]
  },
  {
   "cell_type": "code",
   "execution_count": 10,
   "metadata": {},
   "outputs": [],
   "source": [
    "# Построение столбиковой диаграммы\n",
    "ham_words = np.concatenate(data[data['v1'] == 'ham']['v2'].apply(lambda s: s.strip().split()).values)\n",
    "spam_words = np.concatenate(data[data['v1'] == 'spam']['v2'].apply(lambda s: s.strip().split()).values)\n",
    "words_series_ham = pd.Series(list(ham_words))\n",
    "words_series_spam = pd.Series(list(spam_words))\n",
    "top_words_ham = words_series_ham[words_series_ham.isin(words_series_ham.value_counts().head(10).index)]\n",
    "top_words_spam = words_series_spam[words_series_spam.isin(words_series_spam.value_counts().head(10).index)]"
   ]
  },
  {
   "cell_type": "code",
   "execution_count": 11,
   "metadata": {},
   "outputs": [
    {
     "data": {
      "image/png": "[encoded data removed]",
      "text/plain": [
       "<Figure size 432x288 with 1 Axes>"
      ]
     },
     "metadata": {
      "needs_background": "light"
     },
     "output_type": "display_data"
    },
    {
     "data": {
      "image/png": "[encoded data removed]",
      "text/plain": [
       "<Figure size 432x288 with 1 Axes>"
      ]
     },
     "metadata": {
      "needs_background": "light"
     },
     "output_type": "display_data"
    }
   ],
   "source": [
    "f=plt.figure(figsize=(6,4))\n",
    "plt.title('not_spam')\n",
    "sns.countplot(top_words_ham, order = top_words_ham.value_counts().index)\n",
    "f=plt.figure(figsize=(6,4))\n",
    "plt.title('spam')\n",
    "sns.countplot(top_words_spam, order = top_words_spam.value_counts().index);"
   ]
  },
  {
   "cell_type": "markdown",
   "metadata": {},
   "source": [
    "## Пункт 4"
   ]
  },
  {
   "cell_type": "code",
   "execution_count": 12,
   "metadata": {},
   "outputs": [],
   "source": [
    "#remove stopwords\n",
    "#data['v2'] = data['v2'].apply(removeStopWords)"
   ]
  },
  {
   "cell_type": "code",
   "execution_count": 14,
   "metadata": {},
   "outputs": [],
   "source": [
    "#токенизация\n",
    "tokenizer = feature_extraction.text.CountVectorizer(stop_words = 'english')\n",
    "X = tokenizer.fit_transform(data['v2'])"
   ]
  },
  {
   "cell_type": "markdown",
   "metadata": {},
   "source": [
    "## Пункт 5"
   ]
  },
  {
   "cell_type": "code",
   "execution_count": 15,
   "metadata": {},
   "outputs": [],
   "source": [
    "# Поиск оптимального параметра сглаживания\n",
    "alpha_range = np.arange(0.01, 20, 0.05) \n",
    "data['v1'] = data['v1'].map({'ham' : 0, 'spam' : 1})\n",
    "Y = data['v1']\n",
    "X_train, X_holdout, y_train, y_holdout = train_test_split(X, Y, test_size = 0.33, random_state = 17)"
   ]
  },
  {
   "cell_type": "code",
   "execution_count": 16,
   "metadata": {},
   "outputs": [],
   "source": [
    "train_score = []\n",
    "test_score = []\n",
    "test_recall = []\n",
    "test_precision = []\n",
    "for alpha in alpha_range:\n",
    "    clf = MultinomialNB(alpha=alpha)\n",
    "    clf.fit(X_train, y_train)\n",
    "    y_pred_train = clf.predict(X_train)\n",
    "    y_pred_test = clf.predict(X_holdout)\n",
    "    train_score.append(metrics.accuracy_score(y_train, y_pred_train))\n",
    "    test_score.append(metrics.accuracy_score(y_holdout, y_pred_test))\n",
    "    test_recall.append(metrics.recall_score(y_holdout, y_pred_test))\n",
    "    test_precision.append(metrics.precision_score(y_holdout, y_pred_test))"
   ]
  },
  {
   "cell_type": "code",
   "execution_count": 17,
   "metadata": {},
   "outputs": [],
   "source": [
    "matrix = np.matrix(np.c_[alpha_range, train_score, test_score, test_recall,\n",
    "                        test_precision])\n",
    "models = pd.DataFrame(data = matrix, columns=['alpha', 'train_accuracy',\n",
    "                                             'test_accuracy','test_recall',\n",
    "                                             'test_precision'])"
   ]
  },
  {
   "cell_type": "code",
   "execution_count": 18,
   "metadata": {},
   "outputs": [
    {
     "data": {
      "image/png": "[encoded data removed]",
      "text/plain": [
       "<Figure size 504x360 with 1 Axes>"
      ]
     },
     "metadata": {
      "needs_background": "light"
     },
     "output_type": "display_data"
    }
   ],
   "source": [
    "f=plt.figure(figsize=(7,5))\n",
    "plt.plot(alpha_range, models['train_accuracy'], \"c\", label = 'train_accuracy')\n",
    "plt.plot(alpha_range, models['test_accuracy'], \"r\", label = 'test_accuracy')\n",
    "plt.plot(alpha_range, models['test_recall'], \"b\", label = 'test_recall')\n",
    "plt.plot(alpha_range, models['test_precision'], \"g\", label = 'test_precision')\n",
    "plt.ylabel('metrics')\n",
    "plt.xlabel('alpha')\n",
    "plt.legend()\n",
    "plt.grid();"
   ]
  },
  {
   "cell_type": "code",
   "execution_count": 19,
   "metadata": {},
   "outputs": [
    {
     "name": "stdout",
     "output_type": "stream",
     "text": [
      "best alpha: 13.260\n"
     ]
    }
   ],
   "source": [
    "best_alpha = models['alpha'][models['test_precision'].idxmax()]\n",
    "print(f'best alpha: {best_alpha:1.3f}')"
   ]
  },
  {
   "cell_type": "code",
   "execution_count": 20,
   "metadata": {},
   "outputs": [],
   "source": [
    "#Обучим модель для последующих пунктов\n",
    "clf = MultinomialNB(alpha=best_alpha)\n",
    "clf.fit(X_train, y_train);"
   ]
  },
  {
   "cell_type": "markdown",
   "metadata": {},
   "source": [
    "## Пункт 6"
   ]
  },
  {
   "cell_type": "code",
   "execution_count": 21,
   "metadata": {},
   "outputs": [
    {
     "data": {
      "text/html": [
       "<div>\n",
       "<style scoped>\n",
       "    .dataframe tbody tr th:only-of-type {\n",
       "        vertical-align: middle;\n",
       "    }\n",
       "\n",
       "    .dataframe tbody tr th {\n",
       "        vertical-align: top;\n",
       "    }\n",
       "\n",
       "    .dataframe thead th {\n",
       "        text-align: right;\n",
       "    }\n",
       "</style>\n",
       "<table border=\"1\" class=\"dataframe\">\n",
       "  <thead>\n",
       "    <tr style=\"text-align: right;\">\n",
       "      <th></th>\n",
       "      <th>predicted  ham</th>\n",
       "      <th>predicted spam</th>\n",
       "    </tr>\n",
       "  </thead>\n",
       "  <tbody>\n",
       "    <tr>\n",
       "      <th>actual ham</th>\n",
       "      <td>1589</td>\n",
       "      <td>0</td>\n",
       "    </tr>\n",
       "    <tr>\n",
       "      <th>actual spam</th>\n",
       "      <td>56</td>\n",
       "      <td>194</td>\n",
       "    </tr>\n",
       "  </tbody>\n",
       "</table>\n",
       "</div>"
      ],
      "text/plain": [
       "             predicted  ham  predicted spam\n",
       "actual ham             1589               0\n",
       "actual spam              56             194"
      ]
     },
     "execution_count": 21,
     "metadata": {},
     "output_type": "execute_result"
    }
   ],
   "source": [
    "# Построение матрицы ошибок\n",
    "confusion_matrix = metrics.confusion_matrix(y_holdout, clf.predict(X_holdout)) \n",
    "pd.DataFrame(data  =  confusion_matrix,  columns  =  ['predicted  ham', 'predicted spam'], index = ['actual ham', 'actual spam']) "
   ]
  },
  {
   "cell_type": "markdown",
   "metadata": {},
   "source": [
    "## Пункт 7"
   ]
  },
  {
   "cell_type": "markdown",
   "metadata": {},
   "source": [
    "Recall демонстрирует способность алгоритма обнаруживать данный класс вообще,\n",
    "а precision — способность отличать этот класс от других классов."
   ]
  },
  {
   "cell_type": "code",
   "execution_count": 24,
   "metadata": {},
   "outputs": [],
   "source": [
    "# Построим ROC кривую и рассчитаем площадь под ней\n",
    "y_pred_pr = clf.predict_proba(X_holdout)[:,1]\n",
    "fpr, tpr, threshold = metrics.roc_curve(y_holdout, y_pred_pr)\n",
    "roc_auc = metrics.auc(fpr,tpr)"
   ]
  },
  {
   "cell_type": "code",
   "execution_count": 25,
   "metadata": {},
   "outputs": [
    {
     "data": {
      "image/png": "[encoded data removed]",
      "text/plain": [
       "<Figure size 720x432 with 1 Axes>"
      ]
     },
     "metadata": {
      "needs_background": "light"
     },
     "output_type": "display_data"
    }
   ],
   "source": [
    "plt.figure(figsize=(10,6))\n",
    "plt.title('Receiver Operating Characteristic')\n",
    "plt.plot(fpr, tpr, 'b', label = f'AUC = {roc_auc:1.3f}')\n",
    "plt.legend(loc = 'lower right')\n",
    "plt.plot([0,1],[0,1],'r--')\n",
    "plt.xlim([0,1])\n",
    "plt.ylim([0,1])\n",
    "plt.ylabel('True Positive Rate')\n",
    "plt.xlabel('False Positive Rate')\n",
    "plt.grid('on')\n",
    "plt.show()"
   ]
  },
  {
   "cell_type": "markdown",
   "metadata": {},
   "source": [
    "## Пуннкт 8"
   ]
  },
  {
   "cell_type": "markdown",
   "metadata": {},
   "source": [
    "Положительная константа C (или τ ) является управляющим параметром метода и позволяет находить компромисс между максимизацией разделяющей полосы и минимизацией суммарной ошибки."
   ]
  },
  {
   "cell_type": "code",
   "execution_count": 26,
   "metadata": {},
   "outputs": [],
   "source": [
    "C_range = np.arange(0.2, 3, 0.1)"
   ]
  },
  {
   "cell_type": "code",
   "execution_count": 27,
   "metadata": {},
   "outputs": [],
   "source": [
    "train_score = []\n",
    "test_score = []\n",
    "test_recall = []\n",
    "test_precision = []\n",
    "for c in C_range:\n",
    "    svm = SVC(C = c)\n",
    "    svm.fit(X_train, y_train)\n",
    "    y_pred_train = svm.predict(X_train)\n",
    "    y_pred_holdout = svm.predict(X_holdout)\n",
    "    test_precision.append(metrics.precision_score(y_holdout, y_pred_holdout, zero_division = 1))\n",
    "    train_score.append(metrics.accuracy_score(y_train, y_pred_train))\n",
    "    test_score.append(metrics.accuracy_score(y_holdout, y_pred_holdout))\n",
    "    test_recall.append(metrics.recall_score(y_holdout, y_pred_holdout))"
   ]
  },
  {
   "cell_type": "code",
   "execution_count": 28,
   "metadata": {},
   "outputs": [],
   "source": [
    "matrix = np.matrix(np.c_[C_range, train_score, test_score, test_recall,\n",
    "                        test_precision])\n",
    "models = pd.DataFrame(data = matrix, columns=['C', 'train_accuracy',\n",
    "                                             'test_accuracy','test_recall',\n",
    "                                             'test_precision'])"
   ]
  },
  {
   "cell_type": "code",
   "execution_count": 29,
   "metadata": {},
   "outputs": [
    {
     "data": {
      "image/png": "[encoded data removed]",
      "text/plain": [
       "<Figure size 504x360 with 1 Axes>"
      ]
     },
     "metadata": {
      "needs_background": "light"
     },
     "output_type": "display_data"
    }
   ],
   "source": [
    "f=plt.figure(figsize=(7,5))\n",
    "plt.plot(C_range, models['train_accuracy'], \"c\", label = 'train_accuracy')\n",
    "plt.plot(C_range, models['test_accuracy'], \"r\", label = 'test_accuracy')\n",
    "plt.plot(C_range, models['test_recall'], \"b\", label = 'test_recall')\n",
    "plt.plot(C_range, models['test_precision'], \"g\", label = 'test_precision')\n",
    "plt.ylabel('metrics')\n",
    "plt.xlabel('C')\n",
    "plt.legend()\n",
    "plt.grid();"
   ]
  },
  {
   "cell_type": "code",
   "execution_count": 30,
   "metadata": {},
   "outputs": [
    {
     "name": "stdout",
     "output_type": "stream",
     "text": [
      "best C: 2.000\n"
     ]
    }
   ],
   "source": [
    "best_C = models['C'][models['test_recall'].idxmax()]\n",
    "print(f'best C: {best_C:1.3f}')\n",
    "#Обучим модель для последующих пунктов\n",
    "svm = SVC(C = best_C, probability= True)\n",
    "svm.fit(X_train, y_train);"
   ]
  },
  {
   "cell_type": "markdown",
   "metadata": {},
   "source": [
    "## Пункт 9"
   ]
  },
  {
   "cell_type": "code",
   "execution_count": 31,
   "metadata": {},
   "outputs": [
    {
     "data": {
      "text/html": [
       "<div>\n",
       "<style scoped>\n",
       "    .dataframe tbody tr th:only-of-type {\n",
       "        vertical-align: middle;\n",
       "    }\n",
       "\n",
       "    .dataframe tbody tr th {\n",
       "        vertical-align: top;\n",
       "    }\n",
       "\n",
       "    .dataframe thead th {\n",
       "        text-align: right;\n",
       "    }\n",
       "</style>\n",
       "<table border=\"1\" class=\"dataframe\">\n",
       "  <thead>\n",
       "    <tr style=\"text-align: right;\">\n",
       "      <th></th>\n",
       "      <th>predicted  ham</th>\n",
       "      <th>predicted spam</th>\n",
       "    </tr>\n",
       "  </thead>\n",
       "  <tbody>\n",
       "    <tr>\n",
       "      <th>actual ham</th>\n",
       "      <td>1589</td>\n",
       "      <td>0</td>\n",
       "    </tr>\n",
       "    <tr>\n",
       "      <th>actual spam</th>\n",
       "      <td>42</td>\n",
       "      <td>208</td>\n",
       "    </tr>\n",
       "  </tbody>\n",
       "</table>\n",
       "</div>"
      ],
      "text/plain": [
       "             predicted  ham  predicted spam\n",
       "actual ham             1589               0\n",
       "actual spam              42             208"
      ]
     },
     "execution_count": 31,
     "metadata": {},
     "output_type": "execute_result"
    }
   ],
   "source": [
    "# Построение матрицы ошибок\n",
    "confusion_matrix = metrics.confusion_matrix(y_holdout, svm.predict(X_holdout)) \n",
    "pd.DataFrame(data  =  confusion_matrix,  columns  =  ['predicted  ham', 'predicted spam'], index = ['actual ham', 'actual spam']) "
   ]
  },
  {
   "cell_type": "code",
   "execution_count": 32,
   "metadata": {},
   "outputs": [],
   "source": [
    "# Построим ROC кривую и рассчитаем площадь под ней\n",
    "y_pred_pr = svm.predict_proba(X_holdout)[:,1]\n",
    "fpr, tpr, threshold = metrics.roc_curve(y_holdout, y_pred_pr)\n",
    "roc_auc = metrics.auc(fpr,tpr)"
   ]
  },
  {
   "cell_type": "code",
   "execution_count": 33,
   "metadata": {},
   "outputs": [
    {
     "data": {
      "image/png": "[encoded data removed]",
      "text/plain": [
       "<Figure size 720x432 with 1 Axes>"
      ]
     },
     "metadata": {
      "needs_background": "light"
     },
     "output_type": "display_data"
    }
   ],
   "source": [
    "plt.figure(figsize=(10,6))\n",
    "plt.title('Receiver Operating Characteristic')\n",
    "plt.plot(fpr, tpr, 'b', label = f'AUC = {roc_auc:1.3f}')\n",
    "plt.legend(loc = 'lower right')\n",
    "plt.plot([0,1],[0,1],'r--')\n",
    "plt.xlim([0,1])\n",
    "plt.ylim([0,1])\n",
    "plt.ylabel('True Positive Rate')\n",
    "plt.xlabel('False Positive Rate')\n",
    "plt.grid('on')\n",
    "plt.show()"
   ]
  }
 ],
 "metadata": {
  "kernelspec": {
   "display_name": "Python 3",
   "language": "python",
   "name": "python3"
  },
  "language_info": {
   "codemirror_mode": {
    "name": "ipython",
    "version": 3
   },
   "file_extension": ".py",
   "mimetype": "text/x-python",
   "name": "python",
   "nbconvert_exporter": "python",
   "pygments_lexer": "ipython3",
   "version": "3.7.4"
  }
 },
 "nbformat": 4,
 "nbformat_minor": 4
}
